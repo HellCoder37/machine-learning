{
  "nbformat": 4,
  "nbformat_minor": 0,
  "metadata": {
    "colab": {
      "name": "svmalg.ipynb",
      "provenance": [],
      "collapsed_sections": []
    },
    "kernelspec": {
      "name": "python3",
      "display_name": "Python 3"
    },
    "language_info": {
      "name": "python"
    }
  },
  "cells": [
    {
      "cell_type": "code",
      "execution_count": 1,
      "metadata": {
        "id": "-jBmMF6Ccr-R"
      },
      "outputs": [],
      "source": [
        "from sklearn import datasets\n",
        "from sklearn.model_selection  import train_test_split\n",
        "from sklearn import svm\n",
        "from sklearn import metrics\n"
      ]
    },
    {
      "cell_type": "code",
      "source": [
        "cancer_data=datasets.load_breast_cancer()\n",
        "#print(cancer_data)\n",
        "x_train, x_test,y_train,y_test=train_test_split(cancer_data.data,cancer_data.target)\n",
        "cls=svm.SVC(kernel=\"linear\")\n",
        "cls.fit(x_train,y_train)\n",
        "pred=cls.predict(x_test)\n",
        "print(\"accuracy:\",metrics.accuracy_score(y_test,y_pred=pred)*100)\n",
        "print(\"precision:\",metrics.precision_score(y_test,y_pred=pred)*100)\n",
        "\n",
        "print(\"recall\",metrics.recall_score(y_test,y_pred=pred)*100)\n",
        "print(metrics.classification_report(y_test,y_pred=pred))"
      ],
      "metadata": {
        "colab": {
          "base_uri": "https://localhost:8080/"
        },
        "id": "UuYfa8yUc7O4",
        "outputId": "2d9812a9-2e8f-4095-a9dd-16f28643e84a"
      },
      "execution_count": 2,
      "outputs": [
        {
          "output_type": "stream",
          "name": "stdout",
          "text": [
            "accuracy: 95.1048951048951\n",
            "precision: 93.87755102040816\n",
            "recall 98.9247311827957\n",
            "              precision    recall  f1-score   support\n",
            "\n",
            "           0       0.98      0.88      0.93        50\n",
            "           1       0.94      0.99      0.96        93\n",
            "\n",
            "    accuracy                           0.95       143\n",
            "   macro avg       0.96      0.93      0.94       143\n",
            "weighted avg       0.95      0.95      0.95       143\n",
            "\n"
          ]
        }
      ]
    },
    {
      "cell_type": "code",
      "source": [
        "import matplotlib.pyplot as plt\n",
        "digits=datasets.load_digits()\n",
        "clf=svm.SVC(gamma=0.001,C=100)\n",
        "x,y=digits.data[:-10],digits.target[:-10]\n",
        "clf.fit(x,y)\n",
        "\n",
        "print(clf.predict(digits.data[:-10]))\n",
        "plt.imshow(digits.images[9],interpolation='nearest')\n",
        "plt.show"
      ],
      "metadata": {
        "colab": {
          "base_uri": "https://localhost:8080/",
          "height": 300
        },
        "id": "MTcoothIgzOv",
        "outputId": "01194038-7193-491a-9f78-41830ae4e9ad"
      },
      "execution_count": 3,
      "outputs": [
        {
          "output_type": "stream",
          "name": "stdout",
          "text": [
            "[0 1 2 ... 5 7 9]\n"
          ]
        },
        {
          "output_type": "execute_result",
          "data": {
            "text/plain": [
              "<function matplotlib.pyplot.show>"
            ]
          },
          "metadata": {},
          "execution_count": 3
        },
        {
          "output_type": "display_data",
          "data": {
            "text/plain": [
              "<Figure size 432x288 with 1 Axes>"
            ],
            "image/png": "[encoded data removed]"
          },
          "metadata": {
            "needs_background": "light"
          }
        }
      ]
    }
  ]
}